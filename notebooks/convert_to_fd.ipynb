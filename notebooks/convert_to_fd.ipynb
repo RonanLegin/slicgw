{
 "cells": [
  {
   "cell_type": "code",
   "execution_count": null,
   "id": "066c07d7-03f1-4e47-8b2a-c4e1ce64773f",
   "metadata": {},
   "outputs": [],
   "source": [
    "import numpy as np\n",
    "import pandas as pd\n",
    "import h5py\n",
    "from matplotlib import pyplot as plt\n",
    "from scipy.signal.windows import tukey\n",
    "\n",
    "from tqdm import tqdm \n",
    "from glob import glob\n",
    "\n",
    "import os\n",
    "import wget\n",
    "from gwosc.timeline import get_segments\n",
    "from gwosc.locate import get_urls\n",
    "\n",
    "import requests\n",
    "import json"
   ]
  },
  {
   "cell_type": "code",
   "execution_count": 7,
   "id": "fd2ec1c3-2062-4dc6-9a44-f95a2cbc57c5",
   "metadata": {},
   "outputs": [],
   "source": [
    "# define the instrument we want ('H1' for Hanford, 'L1' for Livingston)\n",
    "ifo = 'H1'\n",
    "data_dir = 'bulk_data'"
   ]
  },
  {
   "cell_type": "code",
   "execution_count": 2,
   "id": "cde80b63",
   "metadata": {},
   "outputs": [],
   "source": [
    "def read_data(path, **kws):\n",
    "    with h5py.File(path, 'r') as f:\n",
    "        t0 = f['meta/GPSstart'][()]\n",
    "        T = f['meta/Duration'][()]\n",
    "        h = f['strain/Strain'][:]\n",
    "        dt = T/len(h)\n",
    "        time = t0 + dt*np.arange(len(h))\n",
    "        return pd.Series(h, index=time, **kws)"
   ]
  },
  {
   "cell_type": "code",
   "execution_count": 5,
   "id": "57232c62-3510-4a27-95a0-0d5a9f28caf5",
   "metadata": {},
   "outputs": [
    {
     "name": "stderr",
     "output_type": "stream",
     "text": [
      " 32%|███▏      | 289/899 [06:11<15:15,  1.50s/it]"
     ]
    }
   ],
   "source": [
    "data_list = []\n",
    "for path in tqdm(sorted(glob(os.path.join(data_dir, '*.hdf5')))):\n",
    "    data_list.append(read_data(path))"
   ]
  },
  {
   "cell_type": "code",
   "execution_count": 8,
   "id": "932bc751-2074-4260-abf8-665b00851039",
   "metadata": {},
   "outputs": [
    {
     "ename": "AttributeError",
     "evalue": "'numpy.ndarray' object has no attribute 'index'",
     "output_type": "error",
     "traceback": [
      "\u001b[0;31m---------------------------------------------------------------------------\u001b[0m",
      "\u001b[0;31mAttributeError\u001b[0m                            Traceback (most recent call last)",
      "Cell \u001b[0;32mIn[7], line 2\u001b[0m\n\u001b[1;32m      1\u001b[0m d \u001b[38;5;241m=\u001b[39m data_array[\u001b[38;5;241m0\u001b[39m]\n\u001b[0;32m----> 2\u001b[0m epoch \u001b[38;5;241m=\u001b[39m \u001b[43md\u001b[49m\u001b[38;5;241;43m.\u001b[39;49m\u001b[43mindex\u001b[49m[\u001b[38;5;241m0\u001b[39m]\n\u001b[1;32m      3\u001b[0m plt\u001b[38;5;241m.\u001b[39mplot(d, label\u001b[38;5;241m=\u001b[39mifo)\n\u001b[1;32m      4\u001b[0m plt\u001b[38;5;241m.\u001b[39mlegend(title\u001b[38;5;241m=\u001b[39m\u001b[38;5;124m\"\u001b[39m\u001b[38;5;124mdetector\u001b[39m\u001b[38;5;124m\"\u001b[39m, loc\u001b[38;5;241m=\u001b[39m\u001b[38;5;124m\"\u001b[39m\u001b[38;5;124mlower right\u001b[39m\u001b[38;5;124m\"\u001b[39m)\n",
      "\u001b[0;31mAttributeError\u001b[0m: 'numpy.ndarray' object has no attribute 'index'"
     ]
    }
   ],
   "source": [
    "d = data_list[0]\n",
    "epoch = d.index[0]\n",
    "plt.plot(d, label=ifo)\n",
    "plt.legend(title=\"detector\", loc=\"lower right\")\n",
    "plt.xlabel(\"GPS time (s)\")\n",
    "plt.ylabel(\"strain data (dimensionless)\");"
   ]
  },
  {
   "cell_type": "code",
   "execution_count": null,
   "id": "eec1f4ab-bcd6-474e-b11d-16d44bd62369",
   "metadata": {},
   "outputs": [
    {
     "data": {
      "text/plain": [
       "1.126248e+09             NaN\n",
       "1.126248e+09             NaN\n",
       "1.126248e+09             NaN\n",
       "1.126248e+09             NaN\n",
       "1.126248e+09             NaN\n",
       "                    ...     \n",
       "1.126253e+09   -1.962237e-20\n",
       "1.126253e+09   -1.357275e-20\n",
       "1.126253e+09   -2.460189e-20\n",
       "1.126253e+09   -6.847398e-20\n",
       "1.126253e+09   -2.896389e-20\n",
       "Length: 16777216, dtype: float64"
      ]
     },
     "execution_count": 9,
     "metadata": {},
     "output_type": "execute_result"
    }
   ],
   "source": [
    "d"
   ]
  },
  {
   "cell_type": "code",
   "execution_count": 10,
   "id": "a6ef9ef9-9e26-4cf8-b3bd-75d93df1e0c5",
   "metadata": {},
   "outputs": [
    {
     "name": "stderr",
     "output_type": "stream",
     "text": [
      "100%|██████████| 17/17 [00:00<00:00, 46.06it/s]\n"
     ]
    }
   ],
   "source": [
    "# duration of segment in seconds\n",
    "T = 4\n",
    "\n",
    "data_segments = []\n",
    "for d in tqdm(data_list):\n",
    "    # sampling interval\n",
    "    dt = d.index[1] - d.index[0]\n",
    "    # segment length\n",
    "    N = int(round(T / dt))\n",
    "    # number of segments\n",
    "    N_segments = int(len(d) / N)\n",
    "    data_segments += [d.iloc[k*N:k*N+N] for k in range(N_segments)]"
   ]
  },
  {
   "cell_type": "code",
   "execution_count": 13,
   "id": "3da162ca-ceba-4e28-a915-0036981f179b",
   "metadata": {},
   "outputs": [
    {
     "name": "stdout",
     "output_type": "stream",
     "text": [
      "0.000244140625\n"
     ]
    }
   ],
   "source": [
    "print(dt)"
   ]
  },
  {
   "cell_type": "code",
   "execution_count": 14,
   "id": "e2637ca9-f0d0-4afe-a425-22123be3a005",
   "metadata": {},
   "outputs": [
    {
     "name": "stdout",
     "output_type": "stream",
     "text": [
      "There are 17408 H1 segments.\n"
     ]
    }
   ],
   "source": [
    "print(f\"There are {len(data_segments)} {ifo} segments.\")"
   ]
  },
  {
   "cell_type": "code",
   "execution_count": 18,
   "id": "714201e8-7804-4fd1-838c-00582890ce28",
   "metadata": {},
   "outputs": [],
   "source": [
    "# get detection catalog from GWOSC\n",
    "# url = 'https://www.gw-openscience.org/eventapi/jsonfull/GWTC/'\n",
    "# with requests.get(url) as r:\n",
    "#     rjson = r.json()\n",
    "\n",
    "filename = 'gwosc_catalog.json'  # specify the filename of the JSON file\n",
    "\n",
    "with open(filename, 'r') as file:\n",
    "    rjson = json.load(file)\n",
    "\n",
    "true_event_times = sorted([v['GPS'] for v in rjson['events'].values()])"
   ]
  },
  {
   "cell_type": "code",
   "execution_count": 21,
   "id": "d83dc05b-ce5b-4688-a851-dea5a93bfb23",
   "metadata": {},
   "outputs": [
    {
     "data": {
      "text/plain": [
       "(16384,)"
      ]
     },
     "execution_count": 21,
     "metadata": {},
     "output_type": "execute_result"
    }
   ],
   "source": [
    "data_segments[10].shape"
   ]
  },
  {
   "cell_type": "code",
   "execution_count": 22,
   "id": "84256c4d-e3d1-447c-9903-012a81c7bccc",
   "metadata": {},
   "outputs": [
    {
     "name": "stderr",
     "output_type": "stream",
     "text": [
      "100%|██████████| 17408/17408 [00:01<00:00, 9216.17it/s]"
     ]
    },
    {
     "name": "stdout",
     "output_type": "stream",
     "text": [
      "There are 13869 good H1 segments.\n"
     ]
    },
    {
     "name": "stderr",
     "output_type": "stream",
     "text": [
      "\n"
     ]
    }
   ],
   "source": [
    "good_segments = []\n",
    "#good_segments = np.zeros((len(data_segments), data_segments[0].shape[0]))\n",
    "for s in tqdm(data_segments):\n",
    "    no_events = all([(t0 < s.index[0] or t0 > s.index[-1]) for t0 in true_event_times])\n",
    "    no_nans = not s.isnull().values.any()\n",
    "    if no_events and no_nans:\n",
    "        good_segments.append(s)\n",
    "\n",
    "print(f\"There are {len(good_segments)} good {ifo} segments.\")"
   ]
  },
  {
   "cell_type": "code",
   "execution_count": 23,
   "id": "80adad2e-8621-450a-ad96-b30586425de2",
   "metadata": {},
   "outputs": [],
   "source": [
    "def get_data_fd(d):\n",
    "  tukey_alpha = 0.1\n",
    "  Nsize = d.shape[0]\n",
    "  w = tukey(Nsize, tukey_alpha)\n",
    "  f = np.fft.rfftfreq(Nsize, d=dt)\n",
    "  data_fd = pd.Series(np.fft.rfft(d*w)*dt, index=f)\n",
    "  return data_fd, f, dt\n",
    "\n",
    "def preprocess_data(data_fd, hz_cut=20, rescale_factor=1e-23):\n",
    "  f = np.array(data_fd.index)\n",
    "  amp = np.array(data_fd.array)\n",
    "  amp[f < hz_cut] = 0.\n",
    "  return amp[1:]/rescale_factor # Remove zero frequency to make resolution 8192 instead of 8193 and rescale data by constant\n",
    "\n",
    "def get_training_data(segments):\n",
    "  training_data = []\n",
    "  for segment in segments:\n",
    "    data_fd, f, dt = get_data_fd(segment)\n",
    "    data = preprocess_data(data_fd, hz_cut=20., rescale_factor=1e-23)\n",
    "    data = np.array([data.real, data.imag]).astype('float32')\n",
    "    training_data.append(data)\n",
    "  return np.array(training_data)"
   ]
  },
  {
   "cell_type": "code",
   "execution_count": 24,
   "id": "186ad7c7-8bd8-462d-a0b1-312b500d22ce",
   "metadata": {},
   "outputs": [],
   "source": [
    "training_data = get_training_data(good_segments)"
   ]
  },
  {
   "cell_type": "code",
   "execution_count": null,
   "id": "51cb8bc8-cc1e-43dc-ae81-65a60061664c",
   "metadata": {},
   "outputs": [],
   "source": [
    "h5f = h5py.File('trainH_bulk_2month.h5', 'w')\n",
    "h5f.create_dataset('data', data=training_data)\n",
    "h5f.close()"
   ]
  }
 ],
 "metadata": {
  "kernelspec": {
   "display_name": "slicgw311",
   "language": "python",
   "name": "slicgw311"
  },
  "language_info": {
   "codemirror_mode": {
    "name": "ipython",
    "version": 3
   },
   "file_extension": ".py",
   "mimetype": "text/x-python",
   "name": "python",
   "nbconvert_exporter": "python",
   "pygments_lexer": "ipython3",
   "version": "3.11.2"
  }
 },
 "nbformat": 4,
 "nbformat_minor": 5
}
